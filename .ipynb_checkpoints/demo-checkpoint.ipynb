{
 "cells": [
  {
   "cell_type": "code",
   "execution_count": null,
   "metadata": {
    "collapsed": false
   },
   "outputs": [],
   "source": [
    "include(\"solver_second.jl\")\n",
    "include(\"kneser_ney.jl\")"
   ]
  },
  {
   "cell_type": "code",
   "execution_count": null,
   "metadata": {
    "collapsed": false
   },
   "outputs": [],
   "source": [
    "filePath = \"data/seq_foursq.txt\";\n",
    "splitRatio = 0.6;\n",
    "totalChevNodes = 15;\n",
    "gridSize = 0.01;\n",
    "\n",
    "numDic1, numDic2, maxId, splitVec = init_dict_second(filePath, splitRatio);\n",
    "Q_rhomp, P_rhomp, alpha = overall_solve(numDic1, maxId, totalChevNodes, gridSize);\n",
    "~, P_first, likelihood_first = one_solve(numDic1, maxId, 0);\n",
    "P_second, indDic1 = init_matrix_second(numDic1);\n",
    "println(size(P_rhomp))\n",
    "println(size(P_second))\n"
   ]
  },
  {
   "cell_type": "code",
   "execution_count": null,
   "metadata": {
    "collapsed": false
   },
   "outputs": [],
   "source": [
    "K = [1,2,3,4,5]\n",
    "x_1 = mrr_first(numDic2, P_first)\n",
    "y_1 = precision_first(numDic2, P_first, K)\n",
    "\n",
    "x_2 = mrr_second(numDic2, P_second, indDic1, maxId+1)\n",
    "y_2 = precision_second(numDic2, P_second, K, indDic1);\n",
    "\n",
    "x_rhomp = mrr_rhomp(numDic2, Q_rhomp, P_rhomp, alpha)\n",
    "y_rhomp = precision_rhomp(numDic2, Q_rhomp, P_rhomp, alpha, K)\n",
    "\n",
    "println(\"MRR for 1-st MC, 2-st MC, rhomp are:\")\n",
    "println([x_1;x_2;x_rhomp])\n",
    "println(\"Precisions for 1-st MC, 2-st MC, rhomp are:\")\n",
    "println(y_1); println(y_2); println(y_rhomp)"
   ]
  },
  {
   "cell_type": "code",
   "execution_count": null,
   "metadata": {
    "collapsed": false
   },
   "outputs": [],
   "source": [
    "numDic1_kn, numDic2_kn, dist_kn, D_kn = init_kneser_ney(filePath, splitRatio);\n",
    "P_first_kn = first_kneser_ney(numDic1_kn, dist_kn, D_kn);\n",
    "indDic_kn, gama_kn, uniq_kn, totalCount_kn = second_kneser_ney(numDic1_kn, numDic2_kn, P_first_kn, D_kn);\n",
    "\n",
    "x_kn_1 = mrr_first_kneser_ney(numDic2_kn, P_first_kn);\n",
    "y_kn_1 = precision_first_kneser_ney(numDic2_kn, P_first_kn, [1,3,5,7,10]);\n",
    "x_kn_2 = mrr_second_kneser_ney(numDic2_kn, P_first_kn, D_kn, indDic_kn, gama_kn, uniq_kn, totalCount_kn);\n",
    "y_kn_2 = precision_second_kneser_ney(numDic2_kn, P_first_kn, D_kn, indDic_kn, gama_kn, uniq_kn, totalCount_kn, K);\n",
    "\n",
    "println(\"MRR for 1-st Kneser Ney and 2-nd Kneser Ney are:\")\n",
    "println([x_kn_1;x_kn_2])\n",
    "println(\"Precisions for 1-st Kneser Ney and 2-nd Kneser Ney are:\")\n",
    "println(y_kn_1); println(y_kn_2)"
   ]
  },
  {
   "cell_type": "code",
   "execution_count": null,
   "metadata": {
    "collapsed": false
   },
   "outputs": [],
   "source": [
    "include(\"ritf.jl\")\n",
    "\n",
    "compressRatio = 0.05;\n",
    "mu = 0; std = 0.01; a = 0.05; lambda = 5e-5; maxiter = 10000000;\n",
    "\n",
    "inputData, cate, dict, numDic1, numDic2, maxId = init_ritf(filePath, splitRatio);\n",
    "dim = round(Int, maxId*compressRatio);\n",
    "U, I, TU, TI = PITF(inputData, cate, dict, maxId, mu, std, a, lambda, dim, maxiter);\n",
    "\n",
    "rankDic = compute_rank(U, I, TU, TI, numDic2);\n",
    "x_ritf = mrr_ritf(numDic2, rankDic);\n",
    "y_ritf = precision_ritf(numDic2, rankDic, K);\n",
    "\n",
    "println(\"MRR for RITF is:\")\n",
    "println(x_ritf)\n",
    "println(\"Precisions for RITF are:\")\n",
    "println(y_ritf)"
   ]
  },
  {
   "cell_type": "code",
   "execution_count": null,
   "metadata": {
    "collapsed": false
   },
   "outputs": [],
   "source": [
    "# the raw results for computing the precisions for different groups of states\n",
    "k = 3;\n",
    "\n",
    "countArray = compute_count(numDic1, maxId);\n",
    "occ_1,z_1 = pr_piece_first(countArray, numDic2, P_first, k);\n",
    "occ_2,z_2 = pr_piece_second(countArray, numDic2, P_second, indDic1, k)\n",
    "occ_rhomp, z_rhomp = pr_piece_rhomp(countArray, numDic2, Q_rhomp, P_rhomp, alpha, k)\n",
    "\n",
    "countArray_kn = compute_count(numDic1_kn, size(P_first_kn,1));\n",
    "occ_kn_1, z_kn_1 = pr_piece_first_kneser_ney(countArray_kn, numDic2_kn, P_first_kn, 3);\n",
    "occ_kn_2, z_kn_2 = pr_piece_second_kneser_ney(countArray_kn, numDic2_kn, P_first_kn, D_kn, indDic_kn, gama_kn, uniq_kn, totalCount_kn, 3);"
   ]
  },
  {
   "cell_type": "code",
   "execution_count": null,
   "metadata": {
    "collapsed": false
   },
   "outputs": [],
   "source": [
    "# results for order >= 3 for RHOMP\n",
    "include(\"solver_high.jl\")\n",
    "order = 4;\n",
    "\n",
    "temp = []; push!(temp, P_rhomp); push!(temp, Q_rhomp);\n",
    "Prob_rhomp = []; push!(Prob_rhomp, temp);\n",
    "Prob_rhomp = high_solver_rhomp(alpha, maxId, Prob_rhomp, splitVec, order, filePath)\n",
    "\n",
    "evaluate_high_rhomp(alpha, maxId, Prob_rhomp, splitVec, filePath, K)\n"
   ]
  },
  {
   "cell_type": "code",
   "execution_count": null,
   "metadata": {
    "collapsed": false,
    "scrolled": true
   },
   "outputs": [],
   "source": [
    "# results for order >= 3 for MC\n",
    "order = 4;\n",
    "\n",
    "Prob_mc = []; dicts = [];\n",
    "push!(Prob_mc, P_second); push!(dicts, indDic1);\n",
    "Prob_mc = high_solver_mc(Prob_mc, dicts, splitVec, order, filePath);\n",
    "\n",
    "evaluate_high_mc(maxId, Prob_mc, dicts, splitVec, filePath, K)"
   ]
  },
  {
   "cell_type": "code",
   "execution_count": null,
   "metadata": {
    "collapsed": false
   },
   "outputs": [],
   "source": [
    "# results for order >= 3 for Kneser Ney\n",
    "order = 4;\n",
    "\n",
    "numDic1_kn, numDic2_kn, Prob_kn, dicts_kn, gamas_kn, dist_kn, P_first_kn, gama_kn, splitVec_kn = high_slover_kn(filePath, splitRatio, order);\n",
    "evaluate_highkneser(Prob_kn, dicts_kn, gamas_kn, dist_kn, P_first_kn, gama_kn, splitVec_kn, filePath, K)"
   ]
  },
  {
   "cell_type": "code",
   "execution_count": null,
   "metadata": {
    "collapsed": false,
    "scrolled": true
   },
   "outputs": [],
   "source": [
    "# For the implementation of the LME methods please refer to: http://www.cs.cornell.edu/~shuochen/lme/multilme_page.html\n",
    "# The codes in LME.jl processes the output from the above software and evaluate the MRR and precisions"
   ]
  },
  {
   "cell_type": "code",
   "execution_count": null,
   "metadata": {
    "collapsed": false
   },
   "outputs": [],
   "source": []
  },
  {
   "cell_type": "code",
   "execution_count": null,
   "metadata": {
    "collapsed": false
   },
   "outputs": [],
   "source": []
  },
  {
   "cell_type": "code",
   "execution_count": null,
   "metadata": {
    "collapsed": false
   },
   "outputs": [],
   "source": []
  },
  {
   "cell_type": "code",
   "execution_count": null,
   "metadata": {
    "collapsed": false
   },
   "outputs": [],
   "source": []
  },
  {
   "cell_type": "code",
   "execution_count": null,
   "metadata": {
    "collapsed": false
   },
   "outputs": [],
   "source": []
  },
  {
   "cell_type": "code",
   "execution_count": null,
   "metadata": {
    "collapsed": false
   },
   "outputs": [],
   "source": []
  },
  {
   "cell_type": "code",
   "execution_count": null,
   "metadata": {
    "collapsed": false
   },
   "outputs": [],
   "source": []
  },
  {
   "cell_type": "code",
   "execution_count": null,
   "metadata": {
    "collapsed": false
   },
   "outputs": [],
   "source": []
  },
  {
   "cell_type": "code",
   "execution_count": null,
   "metadata": {
    "collapsed": false
   },
   "outputs": [],
   "source": []
  },
  {
   "cell_type": "code",
   "execution_count": null,
   "metadata": {
    "collapsed": false
   },
   "outputs": [],
   "source": []
  },
  {
   "cell_type": "code",
   "execution_count": null,
   "metadata": {
    "collapsed": false
   },
   "outputs": [],
   "source": []
  },
  {
   "cell_type": "code",
   "execution_count": null,
   "metadata": {
    "collapsed": false,
    "scrolled": true
   },
   "outputs": [],
   "source": []
  },
  {
   "cell_type": "code",
   "execution_count": null,
   "metadata": {
    "collapsed": false
   },
   "outputs": [],
   "source": []
  },
  {
   "cell_type": "code",
   "execution_count": null,
   "metadata": {
    "collapsed": false
   },
   "outputs": [],
   "source": []
  },
  {
   "cell_type": "code",
   "execution_count": null,
   "metadata": {
    "collapsed": false,
    "scrolled": true
   },
   "outputs": [],
   "source": []
  },
  {
   "cell_type": "code",
   "execution_count": null,
   "metadata": {
    "collapsed": false,
    "scrolled": true
   },
   "outputs": [],
   "source": []
  },
  {
   "cell_type": "code",
   "execution_count": null,
   "metadata": {
    "collapsed": false
   },
   "outputs": [],
   "source": []
  },
  {
   "cell_type": "code",
   "execution_count": null,
   "metadata": {
    "collapsed": false
   },
   "outputs": [],
   "source": []
  },
  {
   "cell_type": "code",
   "execution_count": null,
   "metadata": {
    "collapsed": false
   },
   "outputs": [],
   "source": []
  },
  {
   "cell_type": "code",
   "execution_count": null,
   "metadata": {
    "collapsed": false
   },
   "outputs": [],
   "source": []
  },
  {
   "cell_type": "code",
   "execution_count": null,
   "metadata": {
    "collapsed": false
   },
   "outputs": [],
   "source": []
  },
  {
   "cell_type": "code",
   "execution_count": null,
   "metadata": {
    "collapsed": false
   },
   "outputs": [],
   "source": []
  },
  {
   "cell_type": "code",
   "execution_count": null,
   "metadata": {
    "collapsed": false
   },
   "outputs": [],
   "source": []
  },
  {
   "cell_type": "code",
   "execution_count": null,
   "metadata": {
    "collapsed": false
   },
   "outputs": [],
   "source": []
  },
  {
   "cell_type": "code",
   "execution_count": null,
   "metadata": {
    "collapsed": true
   },
   "outputs": [],
   "source": []
  },
  {
   "cell_type": "code",
   "execution_count": null,
   "metadata": {
    "collapsed": false
   },
   "outputs": [],
   "source": []
  },
  {
   "cell_type": "code",
   "execution_count": null,
   "metadata": {
    "collapsed": false
   },
   "outputs": [],
   "source": []
  },
  {
   "cell_type": "code",
   "execution_count": null,
   "metadata": {
    "collapsed": false
   },
   "outputs": [],
   "source": []
  },
  {
   "cell_type": "code",
   "execution_count": null,
   "metadata": {
    "collapsed": false
   },
   "outputs": [],
   "source": []
  },
  {
   "cell_type": "code",
   "execution_count": null,
   "metadata": {
    "collapsed": false
   },
   "outputs": [],
   "source": []
  },
  {
   "cell_type": "code",
   "execution_count": null,
   "metadata": {
    "collapsed": false
   },
   "outputs": [],
   "source": []
  },
  {
   "cell_type": "code",
   "execution_count": null,
   "metadata": {
    "collapsed": false
   },
   "outputs": [],
   "source": []
  },
  {
   "cell_type": "code",
   "execution_count": null,
   "metadata": {
    "collapsed": false
   },
   "outputs": [],
   "source": []
  },
  {
   "cell_type": "code",
   "execution_count": null,
   "metadata": {
    "collapsed": false
   },
   "outputs": [],
   "source": []
  },
  {
   "cell_type": "code",
   "execution_count": null,
   "metadata": {
    "collapsed": false
   },
   "outputs": [],
   "source": []
  },
  {
   "cell_type": "code",
   "execution_count": null,
   "metadata": {
    "collapsed": true
   },
   "outputs": [],
   "source": []
  },
  {
   "cell_type": "code",
   "execution_count": null,
   "metadata": {
    "collapsed": false
   },
   "outputs": [],
   "source": []
  },
  {
   "cell_type": "code",
   "execution_count": null,
   "metadata": {
    "collapsed": false
   },
   "outputs": [],
   "source": []
  },
  {
   "cell_type": "code",
   "execution_count": null,
   "metadata": {
    "collapsed": false
   },
   "outputs": [],
   "source": []
  },
  {
   "cell_type": "code",
   "execution_count": null,
   "metadata": {
    "collapsed": false
   },
   "outputs": [],
   "source": []
  },
  {
   "cell_type": "code",
   "execution_count": null,
   "metadata": {
    "collapsed": false
   },
   "outputs": [],
   "source": []
  },
  {
   "cell_type": "code",
   "execution_count": null,
   "metadata": {
    "collapsed": false
   },
   "outputs": [],
   "source": []
  },
  {
   "cell_type": "code",
   "execution_count": null,
   "metadata": {
    "collapsed": false
   },
   "outputs": [],
   "source": []
  },
  {
   "cell_type": "code",
   "execution_count": null,
   "metadata": {
    "collapsed": false
   },
   "outputs": [],
   "source": []
  },
  {
   "cell_type": "code",
   "execution_count": null,
   "metadata": {
    "collapsed": false
   },
   "outputs": [],
   "source": []
  },
  {
   "cell_type": "code",
   "execution_count": null,
   "metadata": {
    "collapsed": false
   },
   "outputs": [],
   "source": []
  },
  {
   "cell_type": "code",
   "execution_count": null,
   "metadata": {
    "collapsed": false
   },
   "outputs": [],
   "source": []
  },
  {
   "cell_type": "code",
   "execution_count": null,
   "metadata": {
    "collapsed": false
   },
   "outputs": [],
   "source": []
  },
  {
   "cell_type": "code",
   "execution_count": null,
   "metadata": {
    "collapsed": false
   },
   "outputs": [],
   "source": []
  },
  {
   "cell_type": "code",
   "execution_count": null,
   "metadata": {
    "collapsed": false
   },
   "outputs": [],
   "source": []
  },
  {
   "cell_type": "code",
   "execution_count": null,
   "metadata": {
    "collapsed": false
   },
   "outputs": [],
   "source": []
  },
  {
   "cell_type": "code",
   "execution_count": null,
   "metadata": {
    "collapsed": false
   },
   "outputs": [],
   "source": []
  },
  {
   "cell_type": "code",
   "execution_count": null,
   "metadata": {
    "collapsed": false
   },
   "outputs": [],
   "source": []
  },
  {
   "cell_type": "code",
   "execution_count": null,
   "metadata": {
    "collapsed": false
   },
   "outputs": [],
   "source": []
  },
  {
   "cell_type": "code",
   "execution_count": null,
   "metadata": {
    "collapsed": false
   },
   "outputs": [],
   "source": []
  },
  {
   "cell_type": "code",
   "execution_count": null,
   "metadata": {
    "collapsed": true
   },
   "outputs": [],
   "source": []
  },
  {
   "cell_type": "code",
   "execution_count": null,
   "metadata": {
    "collapsed": false
   },
   "outputs": [],
   "source": []
  },
  {
   "cell_type": "code",
   "execution_count": null,
   "metadata": {
    "collapsed": false
   },
   "outputs": [],
   "source": []
  },
  {
   "cell_type": "code",
   "execution_count": null,
   "metadata": {
    "collapsed": false
   },
   "outputs": [],
   "source": []
  },
  {
   "cell_type": "code",
   "execution_count": null,
   "metadata": {
    "collapsed": false
   },
   "outputs": [],
   "source": []
  },
  {
   "cell_type": "code",
   "execution_count": null,
   "metadata": {
    "collapsed": false
   },
   "outputs": [],
   "source": []
  },
  {
   "cell_type": "code",
   "execution_count": null,
   "metadata": {
    "collapsed": false
   },
   "outputs": [],
   "source": []
  },
  {
   "cell_type": "code",
   "execution_count": null,
   "metadata": {
    "collapsed": false
   },
   "outputs": [],
   "source": []
  },
  {
   "cell_type": "code",
   "execution_count": null,
   "metadata": {
    "collapsed": false
   },
   "outputs": [],
   "source": []
  },
  {
   "cell_type": "code",
   "execution_count": null,
   "metadata": {
    "collapsed": true
   },
   "outputs": [],
   "source": []
  },
  {
   "cell_type": "code",
   "execution_count": null,
   "metadata": {
    "collapsed": false
   },
   "outputs": [],
   "source": []
  },
  {
   "cell_type": "code",
   "execution_count": null,
   "metadata": {
    "collapsed": false
   },
   "outputs": [],
   "source": []
  },
  {
   "cell_type": "code",
   "execution_count": null,
   "metadata": {
    "collapsed": false
   },
   "outputs": [],
   "source": []
  },
  {
   "cell_type": "code",
   "execution_count": null,
   "metadata": {
    "collapsed": false
   },
   "outputs": [],
   "source": []
  },
  {
   "cell_type": "code",
   "execution_count": null,
   "metadata": {
    "collapsed": false
   },
   "outputs": [],
   "source": []
  },
  {
   "cell_type": "code",
   "execution_count": null,
   "metadata": {
    "collapsed": false
   },
   "outputs": [],
   "source": []
  },
  {
   "cell_type": "code",
   "execution_count": null,
   "metadata": {
    "collapsed": false
   },
   "outputs": [],
   "source": []
  },
  {
   "cell_type": "code",
   "execution_count": null,
   "metadata": {
    "collapsed": false
   },
   "outputs": [],
   "source": []
  },
  {
   "cell_type": "code",
   "execution_count": null,
   "metadata": {
    "collapsed": false
   },
   "outputs": [],
   "source": []
  },
  {
   "cell_type": "code",
   "execution_count": null,
   "metadata": {
    "collapsed": false
   },
   "outputs": [],
   "source": []
  },
  {
   "cell_type": "code",
   "execution_count": null,
   "metadata": {
    "collapsed": true
   },
   "outputs": [],
   "source": []
  }
 ],
 "metadata": {
  "kernelspec": {
   "display_name": "Julia 0.4.0",
   "language": "julia",
   "name": "julia-0.4"
  },
  "language_info": {
   "file_extension": ".jl",
   "mimetype": "application/julia",
   "name": "julia",
   "version": "0.4.0"
  }
 },
 "nbformat": 4,
 "nbformat_minor": 0
}
