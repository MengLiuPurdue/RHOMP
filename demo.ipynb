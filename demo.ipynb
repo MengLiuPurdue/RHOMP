{
 "cells": [
  {
   "cell_type": "code",
   "execution_count": 58,
   "metadata": {
    "collapsed": false
   },
   "outputs": [
    {
     "data": {
      "text/plain": [
       "pr_piece_second_kneser_ney (generic function with 1 method)"
      ]
     },
     "execution_count": 58,
     "metadata": {},
     "output_type": "execute_result"
    }
   ],
   "source": [
    "include(\"solver_second.jl\")\n",
    "include(\"kneser_ney.jl\")"
   ]
  },
  {
   "cell_type": "code",
   "execution_count": 35,
   "metadata": {
    "collapsed": false
   },
   "outputs": [
    {
     "name": "stdout",
     "output_type": "stream",
     "text": [
      "---------- solve alpha = 0.9755282581475768\n",
      "inititial likelihood is -506450.8355273647\n",
      "iter 20 likelihood is -502597.73317552666 ---- the diff is 38.23887854529312 --- stepSize is 0.5\n",
      "iter 40 likelihood is -501843.2179139084 ---- the diff is 20.366971418610774 --- stepSize is 0.25\n",
      "iter 60 likelihood is -501548.0466761342 ---- the diff is 13.82917089248076 --- stepSize is 0.25\n",
      "iter 80 likelihood is -501346.5206477797 ---- the diff is 9.785491762449965 --- stepSize is 0.25\n",
      "---------- solve alpha = 0.7938926261462366\n",
      "inititial likelihood is -497191.22894939187\n",
      "iter 20 likelihood is -486751.2492652822 ---- the diff is 48.4378743522102 --- stepSize is 0.5\n",
      "iter 40 likelihood is -486106.7645766377 ---- the diff is 34.9052223834442 --- stepSize is 0.5\n",
      "---------- solve alpha = 0.5\n",
      "inititial likelihood is -493099.87441570417\n",
      "---------- solve alpha = 0.2061073738537635\n",
      "inititial likelihood is -497760.9923896968\n",
      "iter 20 likelihood is -486939.03705282183 ---- the diff is 58.85003240342485 --- stepSize is 0.5\n",
      "---------- solve alpha = 0.024471741852423234\n",
      "inititial likelihood is -508556.5601134695\n",
      "iter 20 likelihood is -504691.5864058076 ---- the diff is 32.84555303142406 --- stepSize is 0.5\n",
      "iter 40 likelihood is -503616.9850411212 ---- the diff is 19.901958162197843 --- stepSize is 0.5\n",
      "iter 60 likelihood is -503086.1122015756 ---- the diff is 10.084035073698033 --- stepSize is 0.25\n",
      "iter 80 likelihood is -502831.8386145087 ---- the diff is 6.4793437494081445 --- stepSize is 0.25\n",
      "inititial likelihood is -493099.87441570417\n",
      "inititial likelihood is -511711.0996006485\n",
      "(345,345)\n",
      "(26811,26811)\n"
     ]
    }
   ],
   "source": [
    "filePath = \"data/seq_foursq.txt\";\n",
    "splitRatio = 0.6;\n",
    "totalChevNodes = 15;\n",
    "gridSize = 0.01;\n",
    "\n",
    "numDic1, numDic2, maxId, splitVec = init_dict_second(filePath, splitRatio);\n",
    "Q_rhomp, P_rhomp, alpha = overall_solve(numDic1, maxId, totalChevNodes, gridSize);\n",
    "~, P_first, likelihood_first = one_solve(numDic1, maxId, 0);\n",
    "P_second, indDic1 = init_matrix_second(numDic1);\n",
    "println(size(P_rhomp))\n",
    "println(size(P_second))\n"
   ]
  },
  {
   "cell_type": "code",
   "execution_count": 17,
   "metadata": {
    "collapsed": false
   },
   "outputs": [
    {
     "name": "stdout",
     "output_type": "stream",
     "text": [
      "MRR for 1-st MC, 2-st MC, rhomp is:\n",
      "[0.1400958979041798,0.09316087916374233,0.2122523499113036]\n",
      "Precisions for 1-st MC, 2-st MC, rhomp is:\n",
      "[0.0662667475841464,0.11191120862704822,0.15155688343214602,0.18372158162550767,0.2105643994211288]\n",
      "[0.08365622519957051,0.11512067597217683,0.1340973810746464,0.1473437281172681,0.15844264973624014]\n",
      "[0.1159376312963914,0.17922832734232763,0.22372905093132908,0.26025862471406563,0.29112786517902994]\n"
     ]
    }
   ],
   "source": [
    "K = [1,2,3,4,5]\n",
    "x_1 = mrr_first(numDic2, P_first)\n",
    "y_1 = precision_first(numDic2, P_first, K)\n",
    "\n",
    "x_2 = mrr_second(numDic2, P_second, indDic1, maxId+1)\n",
    "y_2 = precision_second(numDic2, P_second, K, indDic1);\n",
    "\n",
    "x_rhomp = mrr_rhomp(numDic2, Q_rhomp, P_rhomp, alpha)\n",
    "y_rhomp = precision_rhomp(numDic2, Q_rhomp, P_rhomp, alpha, K)\n",
    "\n",
    "println(\"MRR for 1-st MC, 2-st MC, rhomp are:\")\n",
    "println([x_1;x_2;x_rhomp])\n",
    "println(\"Precisions for 1-st MC, 2-st MC, rhomp are:\")\n",
    "println(y_1); println(y_2); println(y_rhomp)"
   ]
  },
  {
   "cell_type": "code",
   "execution_count": 18,
   "metadata": {
    "collapsed": false
   },
   "outputs": [
    {
     "name": "stdout",
     "output_type": "stream",
     "text": [
      "MRR for 1-st Kneser Ney and 2-nd Kneser Ney are:\n",
      "[0.14395703281493238,0.14314520486986995]\n",
      "Precisions for 1-st Kneser Ney and 2-nd Kneser Ney are:\n",
      "[0.06356665529743181,0.14478088957946464,0.201601798865603,0.24798827705562082,0.30741147787420575]\n",
      "[0.061697047788683824,0.10531701216508128,0.14310076931822488,0.17617261024999684,0.20344614140801656]\n"
     ]
    }
   ],
   "source": [
    "numDic1_kn, numDic2_kn, dist_kn, D_kn = init_kneser_ney(filePath, splitRatio);\n",
    "P_first_kn = first_kneser_ney(numDic1_kn, dist_kn, D_kn);\n",
    "indDic_kn, gama_kn, uniq_kn, totalCount_kn = second_kneser_ney(numDic1_kn, numDic2_kn, P_first_kn, D_kn);\n",
    "\n",
    "x_kn_1 = mrr_first_kneser_ney(numDic2_kn, P_first_kn);\n",
    "y_kn_1 = precision_first_kneser_ney(numDic2_kn, P_first_kn, [1,3,5,7,10]);\n",
    "x_kn_2 = mrr_second_kneser_ney(numDic2_kn, P_first_kn, D_kn, indDic_kn, gama_kn, uniq_kn, totalCount_kn);\n",
    "y_kn_2 = precision_second_kneser_ney(numDic2_kn, P_first_kn, D_kn, indDic_kn, gama_kn, uniq_kn, totalCount_kn, K);\n",
    "\n",
    "println(\"MRR for 1-st Kneser Ney and 2-nd Kneser Ney are:\")\n",
    "println([x_kn_1;x_kn_2])\n",
    "println(\"Precisions for 1-st Kneser Ney and 2-nd Kneser Ney are:\")\n",
    "println(y_kn_1); println(y_kn_2)"
   ]
  },
  {
   "cell_type": "code",
   "execution_count": 23,
   "metadata": {
    "collapsed": false
   },
   "outputs": [
    {
     "name": "stdout",
     "output_type": "stream",
     "text": [
      "MRR for RITF is:\n",
      "0.11349988954314898\n",
      "Precisions for RITF are:\n",
      "[0.0498372090187423,0.0801395002865609,0.11077103174119282,0.13697611179533453,0.1596571024424744]\n"
     ]
    }
   ],
   "source": [
    "include(\"ritf.jl\")\n",
    "\n",
    "compressRatio = 0.05;\n",
    "mu = 0; std = 0.01; a = 0.05; lambda = 5e-5; maxiter = 10000000;\n",
    "\n",
    "inputData, cate, dict, numDic1, numDic2, maxId = init_ritf(filePath, splitRatio);\n",
    "dim = round(Int, maxId*compressRatio);\n",
    "U, I, TU, TI = PITF(inputData, cate, dict, maxId, mu, std, a, lambda, dim, maxiter);\n",
    "\n",
    "rankDic = compute_rank(U, I, TU, TI, numDic2);\n",
    "x_ritf = mrr_ritf(numDic2, rankDic);\n",
    "y_ritf = precision_ritf(numDic2, rankDic, K);\n",
    "\n",
    "println(\"MRR for RITF is:\")\n",
    "println(x_ritf)\n",
    "println(\"Precisions for RITF are:\")\n",
    "println(y_ritf)"
   ]
  },
  {
   "cell_type": "code",
   "execution_count": 30,
   "metadata": {
    "collapsed": false
   },
   "outputs": [],
   "source": [
    "# the raw results for computing the precisions for different groups of states\n",
    "k = 3;\n",
    "\n",
    "countArray = compute_count(numDic1, maxId);\n",
    "occ_1,z_1 = pr_piece_first(countArray, numDic2, P_first, k);\n",
    "occ_2,z_2 = pr_piece_second(countArray, numDic2, P_second, indDic1, k)\n",
    "occ_rhomp, z_rhomp = pr_piece_rhomp(countArray, numDic2, Q_rhomp, P_rhomp, alpha, k)\n",
    "\n",
    "countArray_kn = compute_count(numDic1_kn, size(P_first_kn,1));\n",
    "occ_kn_1, z_kn_1 = pr_piece_first_kneser_ney(countArray_kn, numDic2_kn, P_first_kn, 3);\n",
    "occ_kn_2, z_kn_2 = pr_piece_second_kneser_ney(countArray_kn, numDic2_kn, P_first_kn, D_kn, indDic_kn, gama_kn, uniq_kn, totalCount_kn, 3);"
   ]
  },
  {
   "cell_type": "code",
   "execution_count": 59,
   "metadata": {
    "collapsed": false
   },
   "outputs": [
    {
     "name": "stdout",
     "output_type": "stream",
     "text": [
      "results for d = 2: MRR, Precisions\n",
      "[0.18362751995004753,0.10410653453081449,0.15280272530195108,0.19058532053267266,0.21977082688138744,0.24652833694642304]\n",
      "results for d = 3: MRR, Precisions\n",
      "[0.20580588855005807,0.12050789718179003,0.18125735521833386,0.22128213069061628,0.25290802105915144,0.27836481882935893]\n",
      "results for d = 4: MRR, Precisions\n",
      "[0.22393936272752185,0.13515020130071229,0.20323319913285848,0.24595850108392692,0.27757200371632085,0.30371012697429545]\n"
     ]
    }
   ],
   "source": [
    "# results for order >= 3 for RHOMP\n",
    "include(\"solver_high.jl\")\n",
    "order = 4;\n",
    "\n",
    "temp = []; push!(temp, P_rhomp); push!(temp, Q_rhomp);\n",
    "Prob_rhomp = []; push!(Prob_rhomp, temp);\n",
    "Prob_rhomp = high_solver_rhomp(alpha, maxId, Prob_rhomp, splitVec, order, filePath)\n",
    "\n",
    "evaluate_high_rhomp(alpha, maxId, Prob_rhomp, splitVec, filePath, K)\n"
   ]
  },
  {
   "cell_type": "code",
   "execution_count": 48,
   "metadata": {
    "collapsed": false,
    "scrolled": true
   },
   "outputs": [
    {
     "name": "stdout",
     "output_type": "stream",
     "text": [
      "solving higher-order model with d = 3\n",
      "solving higher-order model with d = 4\n",
      "results for d = 2: MRR, Precisions\n",
      "[0.12338605201493952,0.08734592753174357,0.11757200371632084,0.13605450603902136,0.1504242799628368,0.16381542273149582]\n",
      "results for d = 3: MRR, Precisions\n",
      "[0.030748109914998767,0.024738309074016723,0.02890058841746671,0.030733973366367295,0.03137813564571074,0.03197274698048932]\n",
      "results for d = 4: MRR, Precisions\n",
      "[0.010245180085465044,0.006838030349953546,0.007506968101579436,0.00782904924125116,0.007965314338804583,0.008064416227934345]\n"
     ]
    }
   ],
   "source": [
    "# results for order >= 3 for MC\n",
    "order = 4;\n",
    "\n",
    "Prob_mc = []; dicts = [];\n",
    "push!(Prob_mc, P_second); push!(dicts, indDic1);\n",
    "Prob_mc = high_solver_mc(Prob_mc, dicts, splitVec, order, filePath);\n",
    "\n",
    "evaluate_high_mc(maxId, Prob_mc, dicts, splitVec, filePath, K)"
   ]
  },
  {
   "cell_type": "code",
   "execution_count": 56,
   "metadata": {
    "collapsed": false
   },
   "outputs": [
    {
     "name": "stdout",
     "output_type": "stream",
     "text": [
      "solving higher-order model with d = 2\n",
      "solving higher-order model with d = 3\n",
      "solving higher-order model with d = 4\n",
      "results for d = 1: MRR, Precisions\n",
      "[0.14986761368321835,0.06777642366496787,0.11098493241746067,0.14924939064923554,0.18349767338799025,0.21041989807223577]\n",
      "results for d = 2: MRR, Precisions\n",
      "[0.15816538439070746,0.07982495014402836,0.12200864170175049,0.15811267449590072,0.1882893862175936,0.21379902503877687]\n",
      "results for d = 3: MRR, Precisions\n",
      "[0.15606141236242593,0.07722136051407047,0.12018058940837581,0.1558691557722136,0.18630899623310437,0.21208176379348548]\n",
      "results for d = 4: MRR, Precisions\n"
     ]
    }
   ],
   "source": [
    "# results for order >= 3 for Kneser Ney\n",
    "order = 4;\n",
    "\n",
    "numDic1_kn, numDic2_kn, Prob_kn, dicts_kn, gamas_kn, dist_kn, P_first_kn, gama_kn, splitVec_kn = high_slover_kn(filePath, splitRatio, order);\n",
    "evaluate_highkneser(Prob_kn, dicts_kn, gamas_kn, dist_kn, P_first_kn, gama_kn, splitVec_kn, filePath, K)"
   ]
  },
  {
   "cell_type": "code",
   "execution_count": null,
   "metadata": {
    "collapsed": false,
    "scrolled": true
   },
   "outputs": [],
   "source": [
    "# For the implementation of the LME methods please refer to: http://www.cs.cornell.edu/~shuochen/lme/multilme_page.html\n",
    "# The codes in LME.jl processes the output from the above software and evaluate the MRR and precisions"
   ]
  },
  {
   "cell_type": "code",
   "execution_count": null,
   "metadata": {
    "collapsed": false
   },
   "outputs": [],
   "source": []
  },
  {
   "cell_type": "code",
   "execution_count": null,
   "metadata": {
    "collapsed": false
   },
   "outputs": [],
   "source": []
  },
  {
   "cell_type": "code",
   "execution_count": null,
   "metadata": {
    "collapsed": false
   },
   "outputs": [],
   "source": []
  },
  {
   "cell_type": "code",
   "execution_count": null,
   "metadata": {
    "collapsed": false
   },
   "outputs": [],
   "source": []
  },
  {
   "cell_type": "code",
   "execution_count": null,
   "metadata": {
    "collapsed": false
   },
   "outputs": [],
   "source": []
  },
  {
   "cell_type": "code",
   "execution_count": null,
   "metadata": {
    "collapsed": false
   },
   "outputs": [],
   "source": []
  },
  {
   "cell_type": "code",
   "execution_count": null,
   "metadata": {
    "collapsed": false
   },
   "outputs": [],
   "source": []
  },
  {
   "cell_type": "code",
   "execution_count": null,
   "metadata": {
    "collapsed": false
   },
   "outputs": [],
   "source": []
  },
  {
   "cell_type": "code",
   "execution_count": null,
   "metadata": {
    "collapsed": false
   },
   "outputs": [],
   "source": []
  },
  {
   "cell_type": "code",
   "execution_count": null,
   "metadata": {
    "collapsed": false
   },
   "outputs": [],
   "source": []
  },
  {
   "cell_type": "code",
   "execution_count": null,
   "metadata": {
    "collapsed": false
   },
   "outputs": [],
   "source": []
  },
  {
   "cell_type": "code",
   "execution_count": null,
   "metadata": {
    "collapsed": false,
    "scrolled": true
   },
   "outputs": [],
   "source": []
  },
  {
   "cell_type": "code",
   "execution_count": null,
   "metadata": {
    "collapsed": false
   },
   "outputs": [],
   "source": []
  },
  {
   "cell_type": "code",
   "execution_count": null,
   "metadata": {
    "collapsed": false
   },
   "outputs": [],
   "source": []
  },
  {
   "cell_type": "code",
   "execution_count": null,
   "metadata": {
    "collapsed": false,
    "scrolled": true
   },
   "outputs": [],
   "source": []
  },
  {
   "cell_type": "code",
   "execution_count": null,
   "metadata": {
    "collapsed": false,
    "scrolled": true
   },
   "outputs": [],
   "source": []
  },
  {
   "cell_type": "code",
   "execution_count": null,
   "metadata": {
    "collapsed": false
   },
   "outputs": [],
   "source": []
  },
  {
   "cell_type": "code",
   "execution_count": null,
   "metadata": {
    "collapsed": false
   },
   "outputs": [],
   "source": []
  },
  {
   "cell_type": "code",
   "execution_count": null,
   "metadata": {
    "collapsed": false
   },
   "outputs": [],
   "source": []
  },
  {
   "cell_type": "code",
   "execution_count": null,
   "metadata": {
    "collapsed": false
   },
   "outputs": [],
   "source": []
  },
  {
   "cell_type": "code",
   "execution_count": null,
   "metadata": {
    "collapsed": false
   },
   "outputs": [],
   "source": []
  },
  {
   "cell_type": "code",
   "execution_count": null,
   "metadata": {
    "collapsed": false
   },
   "outputs": [],
   "source": []
  },
  {
   "cell_type": "code",
   "execution_count": null,
   "metadata": {
    "collapsed": false
   },
   "outputs": [],
   "source": []
  },
  {
   "cell_type": "code",
   "execution_count": null,
   "metadata": {
    "collapsed": false
   },
   "outputs": [],
   "source": []
  },
  {
   "cell_type": "code",
   "execution_count": null,
   "metadata": {
    "collapsed": true
   },
   "outputs": [],
   "source": []
  },
  {
   "cell_type": "code",
   "execution_count": null,
   "metadata": {
    "collapsed": false
   },
   "outputs": [],
   "source": []
  },
  {
   "cell_type": "code",
   "execution_count": null,
   "metadata": {
    "collapsed": false
   },
   "outputs": [],
   "source": []
  },
  {
   "cell_type": "code",
   "execution_count": null,
   "metadata": {
    "collapsed": false
   },
   "outputs": [],
   "source": []
  },
  {
   "cell_type": "code",
   "execution_count": null,
   "metadata": {
    "collapsed": false
   },
   "outputs": [],
   "source": []
  },
  {
   "cell_type": "code",
   "execution_count": null,
   "metadata": {
    "collapsed": false
   },
   "outputs": [],
   "source": []
  },
  {
   "cell_type": "code",
   "execution_count": null,
   "metadata": {
    "collapsed": false
   },
   "outputs": [],
   "source": []
  },
  {
   "cell_type": "code",
   "execution_count": null,
   "metadata": {
    "collapsed": false
   },
   "outputs": [],
   "source": []
  },
  {
   "cell_type": "code",
   "execution_count": null,
   "metadata": {
    "collapsed": false
   },
   "outputs": [],
   "source": []
  },
  {
   "cell_type": "code",
   "execution_count": null,
   "metadata": {
    "collapsed": false
   },
   "outputs": [],
   "source": []
  },
  {
   "cell_type": "code",
   "execution_count": null,
   "metadata": {
    "collapsed": false
   },
   "outputs": [],
   "source": []
  },
  {
   "cell_type": "code",
   "execution_count": null,
   "metadata": {
    "collapsed": true
   },
   "outputs": [],
   "source": []
  },
  {
   "cell_type": "code",
   "execution_count": null,
   "metadata": {
    "collapsed": false
   },
   "outputs": [],
   "source": []
  },
  {
   "cell_type": "code",
   "execution_count": null,
   "metadata": {
    "collapsed": false
   },
   "outputs": [],
   "source": []
  },
  {
   "cell_type": "code",
   "execution_count": null,
   "metadata": {
    "collapsed": false
   },
   "outputs": [],
   "source": []
  },
  {
   "cell_type": "code",
   "execution_count": null,
   "metadata": {
    "collapsed": false
   },
   "outputs": [],
   "source": []
  },
  {
   "cell_type": "code",
   "execution_count": null,
   "metadata": {
    "collapsed": false
   },
   "outputs": [],
   "source": []
  },
  {
   "cell_type": "code",
   "execution_count": null,
   "metadata": {
    "collapsed": false
   },
   "outputs": [],
   "source": []
  },
  {
   "cell_type": "code",
   "execution_count": null,
   "metadata": {
    "collapsed": false
   },
   "outputs": [],
   "source": []
  },
  {
   "cell_type": "code",
   "execution_count": null,
   "metadata": {
    "collapsed": false
   },
   "outputs": [],
   "source": []
  },
  {
   "cell_type": "code",
   "execution_count": null,
   "metadata": {
    "collapsed": false
   },
   "outputs": [],
   "source": []
  },
  {
   "cell_type": "code",
   "execution_count": null,
   "metadata": {
    "collapsed": false
   },
   "outputs": [],
   "source": []
  },
  {
   "cell_type": "code",
   "execution_count": null,
   "metadata": {
    "collapsed": false
   },
   "outputs": [],
   "source": []
  },
  {
   "cell_type": "code",
   "execution_count": null,
   "metadata": {
    "collapsed": false
   },
   "outputs": [],
   "source": []
  },
  {
   "cell_type": "code",
   "execution_count": null,
   "metadata": {
    "collapsed": false
   },
   "outputs": [],
   "source": []
  },
  {
   "cell_type": "code",
   "execution_count": null,
   "metadata": {
    "collapsed": false
   },
   "outputs": [],
   "source": []
  },
  {
   "cell_type": "code",
   "execution_count": null,
   "metadata": {
    "collapsed": false
   },
   "outputs": [],
   "source": []
  },
  {
   "cell_type": "code",
   "execution_count": null,
   "metadata": {
    "collapsed": false
   },
   "outputs": [],
   "source": []
  },
  {
   "cell_type": "code",
   "execution_count": null,
   "metadata": {
    "collapsed": false
   },
   "outputs": [],
   "source": []
  },
  {
   "cell_type": "code",
   "execution_count": null,
   "metadata": {
    "collapsed": false
   },
   "outputs": [],
   "source": []
  },
  {
   "cell_type": "code",
   "execution_count": null,
   "metadata": {
    "collapsed": false
   },
   "outputs": [],
   "source": []
  },
  {
   "cell_type": "code",
   "execution_count": null,
   "metadata": {
    "collapsed": true
   },
   "outputs": [],
   "source": []
  },
  {
   "cell_type": "code",
   "execution_count": null,
   "metadata": {
    "collapsed": false
   },
   "outputs": [],
   "source": []
  },
  {
   "cell_type": "code",
   "execution_count": null,
   "metadata": {
    "collapsed": false
   },
   "outputs": [],
   "source": []
  },
  {
   "cell_type": "code",
   "execution_count": null,
   "metadata": {
    "collapsed": false
   },
   "outputs": [],
   "source": []
  },
  {
   "cell_type": "code",
   "execution_count": null,
   "metadata": {
    "collapsed": false
   },
   "outputs": [],
   "source": []
  },
  {
   "cell_type": "code",
   "execution_count": null,
   "metadata": {
    "collapsed": false
   },
   "outputs": [],
   "source": []
  },
  {
   "cell_type": "code",
   "execution_count": null,
   "metadata": {
    "collapsed": false
   },
   "outputs": [],
   "source": []
  },
  {
   "cell_type": "code",
   "execution_count": null,
   "metadata": {
    "collapsed": false
   },
   "outputs": [],
   "source": []
  },
  {
   "cell_type": "code",
   "execution_count": null,
   "metadata": {
    "collapsed": false
   },
   "outputs": [],
   "source": []
  },
  {
   "cell_type": "code",
   "execution_count": null,
   "metadata": {
    "collapsed": true
   },
   "outputs": [],
   "source": []
  },
  {
   "cell_type": "code",
   "execution_count": null,
   "metadata": {
    "collapsed": false
   },
   "outputs": [],
   "source": []
  },
  {
   "cell_type": "code",
   "execution_count": null,
   "metadata": {
    "collapsed": false
   },
   "outputs": [],
   "source": []
  },
  {
   "cell_type": "code",
   "execution_count": null,
   "metadata": {
    "collapsed": false
   },
   "outputs": [],
   "source": []
  },
  {
   "cell_type": "code",
   "execution_count": null,
   "metadata": {
    "collapsed": false
   },
   "outputs": [],
   "source": []
  },
  {
   "cell_type": "code",
   "execution_count": null,
   "metadata": {
    "collapsed": false
   },
   "outputs": [],
   "source": []
  },
  {
   "cell_type": "code",
   "execution_count": null,
   "metadata": {
    "collapsed": false
   },
   "outputs": [],
   "source": []
  },
  {
   "cell_type": "code",
   "execution_count": null,
   "metadata": {
    "collapsed": false
   },
   "outputs": [],
   "source": []
  },
  {
   "cell_type": "code",
   "execution_count": null,
   "metadata": {
    "collapsed": false
   },
   "outputs": [],
   "source": []
  },
  {
   "cell_type": "code",
   "execution_count": null,
   "metadata": {
    "collapsed": false
   },
   "outputs": [],
   "source": []
  },
  {
   "cell_type": "code",
   "execution_count": null,
   "metadata": {
    "collapsed": false
   },
   "outputs": [],
   "source": []
  },
  {
   "cell_type": "code",
   "execution_count": null,
   "metadata": {
    "collapsed": true
   },
   "outputs": [],
   "source": []
  }
 ],
 "metadata": {
  "kernelspec": {
   "display_name": "Julia 0.4.0",
   "language": "julia",
   "name": "julia-0.4"
  },
  "language_info": {
   "file_extension": ".jl",
   "mimetype": "application/julia",
   "name": "julia",
   "version": "0.4.0"
  }
 },
 "nbformat": 4,
 "nbformat_minor": 0
}
